{
 "cells": [
  {
   "cell_type": "code",
   "execution_count": 24,
   "id": "2e3012ec",
   "metadata": {
    "scrolled": true
   },
   "outputs": [
    {
     "name": "stdout",
     "output_type": "stream",
     "text": [
      "Họ và tên: Nguyen DInh Hoang Son Son Dinh \n",
      "Nguyen Dinh Hoang Son Son Dinh\n"
     ]
    }
   ],
   "source": [
    "''' Bài 1: Nhập vào họ tên của một người (Giả sử chỉ có 3 chữ).\n",
    "In họ tên người đó ra màn hình dưới dạng chuẩn: Không có ký tự trắng thừa ở đầu,\n",
    "cuối và giữa các chữ, chữ cái đầu mỗi từ viết hoa còn lại viết thường.\n",
    "Ví dụ nhập NgUYỄn VăN bÌNH thì kết quả là Nguyễn Văn Bình. '''\n",
    "\n",
    "# Import\n",
    "import string\n",
    "\n",
    "# Lấy dữ liệu và xử lý\n",
    "name = input(\"Họ và tên: \")\n",
    "name = name.strip().lower().title().split()\n",
    "list = len(name)\n",
    "\n",
    "# Output các trường hợp khác nhau\n",
    "if list == 6:\n",
    "    print(name[0], name[1], name[2], name[3], name[4], name[5], sep=\" \")\n",
    "elif list == 5:\n",
    "    print(name[0], name[1], name[2], name[3], name[4], sep=\" \")\n",
    "elif list == 4:\n",
    "    print(name[0], name[1], name[2], name[3], sep=\" \")\n",
    "elif list == 3:\n",
    "    print(name[0], name[1], name[2], sep=\" \")\n",
    "elif list == 2:\n",
    "    print(name[0], name[1], sep=\" \")\n",
    "elif list == 1:\n",
    "    print(name[0])\n",
    "elif list == 0\n",
    "    print(\"Quên nhập tên rồi kìa .-.\")\n",
    "else:\n",
    "    print(\"Tên dài thế ._.\")"
   ]
  },
  {
   "cell_type": "code",
   "execution_count": 35,
   "id": "f9509ec3",
   "metadata": {},
   "outputs": [
    {
     "name": "stdout",
     "output_type": "stream",
     "text": [
      "Nhập một dãy số điabcde\n",
      "Tổng chữ số chẵn: 3. tổng chữ số lẻ: 2\n"
     ]
    }
   ],
   "source": [
    "string = input(\"Nhập một dãy số đi\")\n",
    "string = string.strip()\n",
    "len_string = int(len(string))\n",
    "so_chan = len_string//2\n",
    "if len_string%2 == 0:\n",
    "    so_le = so_chan\n",
    "else:\n",
    "    so_le = so_chan + 1\n",
    "print(\"Tổng chữ số chẵn: \" + str(so_chan) + \". tổng chữ số lẻ: \" + str(so_le))"
   ]
  },
  {
   "cell_type": "code",
   "execution_count": null,
   "id": "98dcd883",
   "metadata": {},
   "outputs": [],
   "source": []
  },
  {
   "cell_type": "code",
   "execution_count": null,
   "id": "0e783631",
   "metadata": {},
   "outputs": [],
   "source": []
  }
 ],
 "metadata": {
  "kernelspec": {
   "display_name": "Python 3 (ipykernel)",
   "language": "python",
   "name": "python3"
  },
  "language_info": {
   "codemirror_mode": {
    "name": "ipython",
    "version": 3
   },
   "file_extension": ".py",
   "mimetype": "text/x-python",
   "name": "python",
   "nbconvert_exporter": "python",
   "pygments_lexer": "ipython3",
   "version": "3.9.12"
  }
 },
 "nbformat": 4,
 "nbformat_minor": 5
}
